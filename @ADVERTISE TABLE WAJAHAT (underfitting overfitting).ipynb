{
 "cells": [
  {
   "cell_type": "code",
   "execution_count": 54,
   "id": "0dee92e5",
   "metadata": {},
   "outputs": [
    {
     "data": {
      "text/html": [
       "<div>\n",
       "<style scoped>\n",
       "    .dataframe tbody tr th:only-of-type {\n",
       "        vertical-align: middle;\n",
       "    }\n",
       "\n",
       "    .dataframe tbody tr th {\n",
       "        vertical-align: top;\n",
       "    }\n",
       "\n",
       "    .dataframe thead th {\n",
       "        text-align: right;\n",
       "    }\n",
       "</style>\n",
       "<table border=\"1\" class=\"dataframe\">\n",
       "  <thead>\n",
       "    <tr style=\"text-align: right;\">\n",
       "      <th></th>\n",
       "      <th>TV</th>\n",
       "      <th>Radio</th>\n",
       "      <th>Newspaper</th>\n",
       "      <th>Sales</th>\n",
       "    </tr>\n",
       "  </thead>\n",
       "  <tbody>\n",
       "    <tr>\n",
       "      <th>1</th>\n",
       "      <td>230.1</td>\n",
       "      <td>37.8</td>\n",
       "      <td>69.2</td>\n",
       "      <td>22.1</td>\n",
       "    </tr>\n",
       "    <tr>\n",
       "      <th>2</th>\n",
       "      <td>44.5</td>\n",
       "      <td>39.3</td>\n",
       "      <td>45.1</td>\n",
       "      <td>10.4</td>\n",
       "    </tr>\n",
       "    <tr>\n",
       "      <th>3</th>\n",
       "      <td>17.2</td>\n",
       "      <td>45.9</td>\n",
       "      <td>69.3</td>\n",
       "      <td>9.3</td>\n",
       "    </tr>\n",
       "    <tr>\n",
       "      <th>4</th>\n",
       "      <td>151.5</td>\n",
       "      <td>41.3</td>\n",
       "      <td>58.5</td>\n",
       "      <td>18.5</td>\n",
       "    </tr>\n",
       "    <tr>\n",
       "      <th>5</th>\n",
       "      <td>180.8</td>\n",
       "      <td>10.8</td>\n",
       "      <td>58.4</td>\n",
       "      <td>12.9</td>\n",
       "    </tr>\n",
       "    <tr>\n",
       "      <th>...</th>\n",
       "      <td>...</td>\n",
       "      <td>...</td>\n",
       "      <td>...</td>\n",
       "      <td>...</td>\n",
       "    </tr>\n",
       "    <tr>\n",
       "      <th>196</th>\n",
       "      <td>38.2</td>\n",
       "      <td>3.7</td>\n",
       "      <td>13.8</td>\n",
       "      <td>7.6</td>\n",
       "    </tr>\n",
       "    <tr>\n",
       "      <th>197</th>\n",
       "      <td>94.2</td>\n",
       "      <td>4.9</td>\n",
       "      <td>8.1</td>\n",
       "      <td>9.7</td>\n",
       "    </tr>\n",
       "    <tr>\n",
       "      <th>198</th>\n",
       "      <td>177.0</td>\n",
       "      <td>9.3</td>\n",
       "      <td>6.4</td>\n",
       "      <td>12.8</td>\n",
       "    </tr>\n",
       "    <tr>\n",
       "      <th>199</th>\n",
       "      <td>283.6</td>\n",
       "      <td>42.0</td>\n",
       "      <td>66.2</td>\n",
       "      <td>25.5</td>\n",
       "    </tr>\n",
       "    <tr>\n",
       "      <th>200</th>\n",
       "      <td>232.1</td>\n",
       "      <td>8.6</td>\n",
       "      <td>8.7</td>\n",
       "      <td>13.4</td>\n",
       "    </tr>\n",
       "  </tbody>\n",
       "</table>\n",
       "<p>200 rows × 4 columns</p>\n",
       "</div>"
      ],
      "text/plain": [
       "        TV  Radio  Newspaper  Sales\n",
       "1    230.1   37.8       69.2   22.1\n",
       "2     44.5   39.3       45.1   10.4\n",
       "3     17.2   45.9       69.3    9.3\n",
       "4    151.5   41.3       58.5   18.5\n",
       "5    180.8   10.8       58.4   12.9\n",
       "..     ...    ...        ...    ...\n",
       "196   38.2    3.7       13.8    7.6\n",
       "197   94.2    4.9        8.1    9.7\n",
       "198  177.0    9.3        6.4   12.8\n",
       "199  283.6   42.0       66.2   25.5\n",
       "200  232.1    8.6        8.7   13.4\n",
       "\n",
       "[200 rows x 4 columns]"
      ]
     },
     "execution_count": 54,
     "metadata": {},
     "output_type": "execute_result"
    }
   ],
   "source": [
    "import pandas as pd\n",
    "X= pd.read_csv('Advertising.csv',index_col=0)\n",
    "X"
   ]
  },
  {
   "cell_type": "code",
   "execution_count": 55,
   "id": "27cea5d0",
   "metadata": {},
   "outputs": [],
   "source": [
    "x=X[['TV']]\n",
    "y=X[['Sales']]"
   ]
  },
  {
   "cell_type": "code",
   "execution_count": 56,
   "id": "0af3bdb5",
   "metadata": {},
   "outputs": [],
   "source": [
    "from sklearn.model_selection import train_test_split\n",
    "x_train,x_test,y_train,y_test=train_test_split(x,y,test_size=0.15)"
   ]
  },
  {
   "cell_type": "code",
   "execution_count": 57,
   "id": "901dd5d7",
   "metadata": {},
   "outputs": [],
   "source": [
    "from sklearn.linear_model import LinearRegression\n",
    "A=LinearRegression()\n",
    "modeltv=A.fit(x_train,y_train)"
   ]
  },
  {
   "cell_type": "code",
   "execution_count": 58,
   "id": "23b2c73c",
   "metadata": {},
   "outputs": [],
   "source": [
    "pred_tv=modeltv.predict(x_test)\n",
    "pred_train_tv=modeltv.predict(x_train)"
   ]
  },
  {
   "cell_type": "code",
   "execution_count": 59,
   "id": "53e03d01",
   "metadata": {},
   "outputs": [],
   "source": [
    "from sklearn.metrics import mean_squared_error,mean_absolute_error\n",
    "MSE_TV=mean_squared_error(y_test,pred_tv)\n",
    "MSE_TRAIN_TV=mean_squared_error(y_train,pred_train_tv)"
   ]
  },
  {
   "cell_type": "code",
   "execution_count": 60,
   "id": "3bade94e",
   "metadata": {},
   "outputs": [],
   "source": [
    "MAE_TV=mean_absolute_error(y_test,pred_tv)\n",
    "MAE_TRAIN_TV=mean_absolute_error(y_train,pred_train_tv)"
   ]
  },
  {
   "cell_type": "code",
   "execution_count": 61,
   "id": "45ce8275",
   "metadata": {},
   "outputs": [],
   "source": [
    "R2_TV=modeltv.score(x_test,y_test)\n",
    "R2_TRAIN_TV=modeltv.score(x_train,y_train)"
   ]
  },
  {
   "cell_type": "code",
   "execution_count": null,
   "id": "1f03f78e",
   "metadata": {},
   "outputs": [],
   "source": []
  },
  {
   "cell_type": "code",
   "execution_count": null,
   "id": "738b5921",
   "metadata": {},
   "outputs": [],
   "source": []
  },
  {
   "cell_type": "code",
   "execution_count": 62,
   "id": "a052a605",
   "metadata": {},
   "outputs": [],
   "source": [
    "p=X[['Newspaper']]\n",
    "q=X[['Sales']]"
   ]
  },
  {
   "cell_type": "code",
   "execution_count": 63,
   "id": "308adc06",
   "metadata": {},
   "outputs": [],
   "source": [
    "from sklearn.model_selection import train_test_split\n",
    "x_train,x_test,y_train,y_test=train_test_split(p,q,test_size=0.15)"
   ]
  },
  {
   "cell_type": "code",
   "execution_count": 64,
   "id": "981ae576",
   "metadata": {},
   "outputs": [],
   "source": [
    "from sklearn.linear_model import LinearRegression\n",
    "A=LinearRegression()\n",
    "modelnp=A.fit(x_train,y_train)"
   ]
  },
  {
   "cell_type": "code",
   "execution_count": 65,
   "id": "bb34cbb7",
   "metadata": {},
   "outputs": [],
   "source": [
    "pred_np=modelnp.predict(x_test)\n",
    "pred_train_np=modelnp.predict(x_train)"
   ]
  },
  {
   "cell_type": "code",
   "execution_count": 66,
   "id": "55f576df",
   "metadata": {},
   "outputs": [],
   "source": [
    "from sklearn.metrics import mean_squared_error,mean_absolute_error\n",
    "MSE_NP=mean_squared_error(y_test,pred_np)\n",
    "MSE_TRAIN_NP=mean_squared_error(y_train,pred_train_np)"
   ]
  },
  {
   "cell_type": "code",
   "execution_count": 67,
   "id": "86bbe57c",
   "metadata": {},
   "outputs": [],
   "source": [
    "MAE_NP=mean_absolute_error(y_test,pred_np)\n",
    "MAE_TRAIN_NP=mean_absolute_error(y_train,pred_train_np)"
   ]
  },
  {
   "cell_type": "code",
   "execution_count": 68,
   "id": "8ae3b590",
   "metadata": {},
   "outputs": [],
   "source": [
    "R2_NP=modelnp.score(x_test,y_test)\n",
    "R2_TRAIN_NP=modelnp.score(x_train,y_train)"
   ]
  },
  {
   "cell_type": "code",
   "execution_count": null,
   "id": "eb2d1d86",
   "metadata": {},
   "outputs": [],
   "source": []
  },
  {
   "cell_type": "code",
   "execution_count": null,
   "id": "4975a95b",
   "metadata": {},
   "outputs": [],
   "source": []
  },
  {
   "cell_type": "code",
   "execution_count": 69,
   "id": "5524c9a9",
   "metadata": {},
   "outputs": [],
   "source": [
    "s=X[['Radio']]\n",
    "t=X[['Sales']]"
   ]
  },
  {
   "cell_type": "code",
   "execution_count": 70,
   "id": "1a5e900a",
   "metadata": {},
   "outputs": [],
   "source": [
    "from sklearn.model_selection import train_test_split\n",
    "x_train,x_test,y_train,y_test=train_test_split(s,t,test_size=0.15)"
   ]
  },
  {
   "cell_type": "code",
   "execution_count": 71,
   "id": "f8fbcee3",
   "metadata": {},
   "outputs": [],
   "source": [
    "from sklearn.linear_model import LinearRegression\n",
    "A=LinearRegression()\n",
    "modelrd=A.fit(x_train,y_train)"
   ]
  },
  {
   "cell_type": "code",
   "execution_count": 72,
   "id": "8c88a76e",
   "metadata": {},
   "outputs": [],
   "source": [
    "pred_rd=modelrd.predict(x_test)\n",
    "pred_train_rd=modelrd.predict(x_train)"
   ]
  },
  {
   "cell_type": "code",
   "execution_count": 73,
   "id": "26be66d7",
   "metadata": {},
   "outputs": [],
   "source": [
    "from sklearn.metrics import mean_squared_error,mean_absolute_error\n",
    "MSE_RD=mean_squared_error(y_test,pred_rd)\n",
    "MSE_TRAIN_RD=mean_squared_error(y_train,pred_train_rd)"
   ]
  },
  {
   "cell_type": "code",
   "execution_count": 74,
   "id": "b10cd7b3",
   "metadata": {},
   "outputs": [],
   "source": [
    "MAE_RD=mean_absolute_error(y_test,pred_rd)\n",
    "MAE_TRAIN_RD=mean_absolute_error(y_train,pred_train_rd)"
   ]
  },
  {
   "cell_type": "code",
   "execution_count": 75,
   "id": "8120ac57",
   "metadata": {},
   "outputs": [],
   "source": [
    "R2_RD=modelrd.score(x_test,y_test)\n",
    "R2_TRAIN_RD=modelrd.score(x_train,y_train)"
   ]
  },
  {
   "cell_type": "code",
   "execution_count": null,
   "id": "d4f66a3e",
   "metadata": {},
   "outputs": [],
   "source": []
  },
  {
   "cell_type": "markdown",
   "id": "4e96abf1",
   "metadata": {},
   "source": [
    "# MULTILINEAR REGRESSION"
   ]
  },
  {
   "cell_type": "code",
   "execution_count": 76,
   "id": "86cd14d3",
   "metadata": {},
   "outputs": [],
   "source": [
    "u=X.iloc[:,:-1]\n",
    "v=X[['Sales']]"
   ]
  },
  {
   "cell_type": "code",
   "execution_count": 77,
   "id": "88cbe6fd",
   "metadata": {},
   "outputs": [],
   "source": [
    "from sklearn.model_selection import train_test_split\n",
    "x_train,x_test,y_train,y_test=train_test_split(u,v,test_size=0.15)"
   ]
  },
  {
   "cell_type": "code",
   "execution_count": 78,
   "id": "87f82407",
   "metadata": {},
   "outputs": [],
   "source": [
    "from sklearn.linear_model import LinearRegression\n",
    "A=LinearRegression()\n",
    "modelmlr=A.fit(x_train,y_train)"
   ]
  },
  {
   "cell_type": "code",
   "execution_count": 79,
   "id": "83e6d8b0",
   "metadata": {},
   "outputs": [],
   "source": [
    "pred_mlr=modelmlr.predict(x_test)\n",
    "pred_train_mlr=modelmlr.predict(x_train)"
   ]
  },
  {
   "cell_type": "code",
   "execution_count": 80,
   "id": "7af9cbbd",
   "metadata": {},
   "outputs": [],
   "source": [
    "from sklearn.metrics import mean_squared_error,mean_absolute_error\n",
    "MSE_MLR=mean_squared_error(y_test,pred_mlr)\n",
    "MSE_TRAIN_MLR=mean_squared_error(y_train,pred_train_mlr)"
   ]
  },
  {
   "cell_type": "code",
   "execution_count": 81,
   "id": "be7cdd71",
   "metadata": {},
   "outputs": [],
   "source": [
    "MAE_MLR=mean_absolute_error(y_test,pred_mlr)\n",
    "MAE_TRAIN_MLR=mean_absolute_error(y_train,pred_train_mlr)"
   ]
  },
  {
   "cell_type": "code",
   "execution_count": 82,
   "id": "fc02f3c8",
   "metadata": {},
   "outputs": [],
   "source": [
    "R2_MLR=modelmlr.score(x_test,y_test)\n",
    "R2_TRAIN_MLR=modelmlr.score(x_train,y_train)"
   ]
  },
  {
   "cell_type": "code",
   "execution_count": null,
   "id": "05de6741",
   "metadata": {},
   "outputs": [],
   "source": []
  },
  {
   "cell_type": "code",
   "execution_count": null,
   "id": "22165d91",
   "metadata": {},
   "outputs": [],
   "source": []
  },
  {
   "cell_type": "markdown",
   "id": "ae3335f9",
   "metadata": {},
   "source": [
    "# POLLYNOMIAL REGRESSION"
   ]
  },
  {
   "cell_type": "code",
   "execution_count": null,
   "id": "feb95f78",
   "metadata": {},
   "outputs": [],
   "source": []
  },
  {
   "cell_type": "code",
   "execution_count": null,
   "id": "2c51aca1",
   "metadata": {},
   "outputs": [],
   "source": []
  },
  {
   "cell_type": "code",
   "execution_count": 83,
   "id": "11ed6952",
   "metadata": {},
   "outputs": [],
   "source": [
    "from sklearn.preprocessing import PolynomialFeatures\n",
    "B=PolynomialFeatures(degree=2)\n",
    "poly=B.fit_transform(u)"
   ]
  },
  {
   "cell_type": "code",
   "execution_count": 84,
   "id": "66e2c616",
   "metadata": {},
   "outputs": [],
   "source": [
    "from sklearn.model_selection import train_test_split\n",
    "x_train,x_test,y_train,y_test=train_test_split(poly,v,test_size=0.15)"
   ]
  },
  {
   "cell_type": "code",
   "execution_count": 85,
   "id": "1d467939",
   "metadata": {},
   "outputs": [],
   "source": [
    "from sklearn.linear_model import LinearRegression\n",
    "A=LinearRegression()\n",
    "modelp2=A.fit(x_train,y_train)"
   ]
  },
  {
   "cell_type": "code",
   "execution_count": 86,
   "id": "47f5c607",
   "metadata": {},
   "outputs": [],
   "source": [
    "pred_p2=modelp2.predict(x_test)\n",
    "pred_train_p2=modelp2.predict(x_train)"
   ]
  },
  {
   "cell_type": "code",
   "execution_count": 87,
   "id": "306bfc78",
   "metadata": {},
   "outputs": [],
   "source": [
    "from sklearn.metrics import mean_squared_error,mean_absolute_error\n",
    "MSE_P2=mean_squared_error(y_test,pred_p2)\n",
    "MSE_TRAIN_P2=mean_squared_error(y_train,pred_train_p2)"
   ]
  },
  {
   "cell_type": "code",
   "execution_count": 88,
   "id": "113a6e8e",
   "metadata": {},
   "outputs": [],
   "source": [
    "MAE_P2=mean_absolute_error(y_test,pred_p2)\n",
    "MAE_TRAIN_P2=mean_absolute_error(y_train,pred_train_p2)"
   ]
  },
  {
   "cell_type": "code",
   "execution_count": 89,
   "id": "ad420063",
   "metadata": {},
   "outputs": [],
   "source": [
    "R2_P2=modelp2.score(x_test,y_test)\n",
    "R2_TRAIN_P2=modelp2.score(x_train,y_train)"
   ]
  },
  {
   "cell_type": "code",
   "execution_count": null,
   "id": "dc580049",
   "metadata": {},
   "outputs": [],
   "source": []
  },
  {
   "cell_type": "code",
   "execution_count": null,
   "id": "f47b6728",
   "metadata": {},
   "outputs": [],
   "source": []
  },
  {
   "cell_type": "code",
   "execution_count": 90,
   "id": "71f90700",
   "metadata": {},
   "outputs": [],
   "source": [
    "from sklearn.preprocessing import PolynomialFeatures\n",
    "B=PolynomialFeatures(degree=5)\n",
    "poly=B.fit_transform(u)\n"
   ]
  },
  {
   "cell_type": "code",
   "execution_count": 91,
   "id": "675b782b",
   "metadata": {},
   "outputs": [],
   "source": [
    "from sklearn.model_selection import train_test_split\n",
    "x_train,x_test,y_train,y_test=train_test_split(poly,v,test_size=0.15)"
   ]
  },
  {
   "cell_type": "code",
   "execution_count": 92,
   "id": "b8a85fe6",
   "metadata": {},
   "outputs": [],
   "source": [
    "from sklearn.linear_model import LinearRegression\n",
    "A=LinearRegression()\n",
    "modelp5=A.fit(x_train,y_train)"
   ]
  },
  {
   "cell_type": "code",
   "execution_count": 93,
   "id": "47b1c9ef",
   "metadata": {},
   "outputs": [],
   "source": [
    "pred_p5=modelp5.predict(x_test)\n",
    "pred_train_p5=modelp5.predict(x_train)"
   ]
  },
  {
   "cell_type": "code",
   "execution_count": 94,
   "id": "5374656a",
   "metadata": {},
   "outputs": [],
   "source": [
    "from sklearn.metrics import mean_squared_error,mean_absolute_error\n",
    "MSE_P5=mean_squared_error(y_test,pred_p5)\n",
    "MSE_TRAIN_P5=mean_squared_error(y_train,pred_train_p5)"
   ]
  },
  {
   "cell_type": "code",
   "execution_count": 95,
   "id": "e7856ec2",
   "metadata": {},
   "outputs": [],
   "source": [
    "MAE_P5=mean_absolute_error(y_test,pred_p5)\n",
    "MAE_TRAIN_P5=mean_absolute_error(y_train,pred_train_p5)"
   ]
  },
  {
   "cell_type": "code",
   "execution_count": 96,
   "id": "8b655846",
   "metadata": {},
   "outputs": [],
   "source": [
    "R2_P5=modelp5.score(x_test,y_test)\n",
    "R2_TRAIN_P5=modelp5.score(x_train,y_train)"
   ]
  },
  {
   "cell_type": "code",
   "execution_count": null,
   "id": "64dad25b",
   "metadata": {},
   "outputs": [],
   "source": []
  },
  {
   "cell_type": "code",
   "execution_count": null,
   "id": "744da84e",
   "metadata": {},
   "outputs": [],
   "source": []
  },
  {
   "cell_type": "code",
   "execution_count": 97,
   "id": "29543f07",
   "metadata": {},
   "outputs": [],
   "source": [
    "from sklearn.preprocessing import PolynomialFeatures\n",
    "B=PolynomialFeatures(degree=10)\n",
    "poly=B.fit_transform(u)"
   ]
  },
  {
   "cell_type": "code",
   "execution_count": 98,
   "id": "7f5abca5",
   "metadata": {},
   "outputs": [],
   "source": [
    "from sklearn.model_selection import train_test_split\n",
    "x_train,x_test,y_train,y_test=train_test_split(poly,v,test_size=0.15)"
   ]
  },
  {
   "cell_type": "code",
   "execution_count": 99,
   "id": "b70d69ce",
   "metadata": {},
   "outputs": [],
   "source": [
    "from sklearn.linear_model import LinearRegression\n",
    "A=LinearRegression()\n",
    "modelp10=A.fit(x_train,y_train)"
   ]
  },
  {
   "cell_type": "code",
   "execution_count": 100,
   "id": "32c97757",
   "metadata": {},
   "outputs": [],
   "source": [
    "pred_p10=modelp10.predict(x_test)\n",
    "pred_train_p10=modelp10.predict(x_train)"
   ]
  },
  {
   "cell_type": "code",
   "execution_count": 101,
   "id": "0d5f7e9b",
   "metadata": {},
   "outputs": [],
   "source": [
    "from sklearn.metrics import mean_squared_error,mean_absolute_error\n",
    "MSE_P10=mean_squared_error(y_test,pred_p10)\n",
    "MSE_TRAIN_P10=mean_squared_error(y_train,pred_train_p10)"
   ]
  },
  {
   "cell_type": "code",
   "execution_count": 102,
   "id": "f24d25ed",
   "metadata": {},
   "outputs": [],
   "source": [
    "MAE_P10=mean_absolute_error(y_test,pred_p10)\n",
    "MAE_TRAIN_P10=mean_absolute_error(y_train,pred_train_p10)"
   ]
  },
  {
   "cell_type": "code",
   "execution_count": 103,
   "id": "896551c8",
   "metadata": {},
   "outputs": [],
   "source": [
    "R2_P10=modelp10.score(x_test,y_test)\n",
    "R2_TRAIN_P10=modelp10.score(x_train,y_train)\n"
   ]
  },
  {
   "cell_type": "code",
   "execution_count": null,
   "id": "2ebe243d",
   "metadata": {},
   "outputs": [],
   "source": []
  },
  {
   "cell_type": "code",
   "execution_count": null,
   "id": "80b8d4b3",
   "metadata": {},
   "outputs": [],
   "source": []
  },
  {
   "cell_type": "code",
   "execution_count": 107,
   "id": "d3dafab1",
   "metadata": {},
   "outputs": [],
   "source": [
    "RESULT=pd.DataFrame(index=['','TRAIN','','','','','TEST',''],columns=['','TV','RADIO','NEWSPAPER','MLR','PLR(2)','PLR(5)','PLR(10)','RIDGE','LASSO','ELASTIC NET'])"
   ]
  },
  {
   "cell_type": "code",
   "execution_count": 108,
   "id": "ec08e2d0",
   "metadata": {},
   "outputs": [],
   "source": [
    "import numpy as np\n",
    "RESULT['']=['MAE','MSE','RMSE','R squared','MAE','MSE','RMSE','R squared']\n",
    "RESULT['TV']=[MAE_TRAIN_TV,MSE_TRAIN_TV,np.sqrt(MSE_TRAIN_TV),R2_TRAIN_TV,MAE_TV,MSE_TV,np.sqrt(MSE_TV),R2_TV]\n",
    "RESULT['RADIO']=[MAE_TRAIN_RD,MSE_TRAIN_RD,np.sqrt(MSE_TRAIN_RD),R2_TRAIN_RD,MAE_RD,MSE_RD,np.sqrt(MSE_RD),R2_RD]\n",
    "RESULT['NEWSPAPER']=[MAE_TRAIN_NP,MSE_TRAIN_NP,np.sqrt(MSE_TRAIN_NP),R2_TRAIN_NP,MAE_NP,MSE_NP,np.sqrt(MSE_NP),R2_NP]\n",
    "RESULT['MLR']=[MAE_TRAIN_MLR,MSE_TRAIN_MLR,np.sqrt(MSE_TRAIN_MLR),R2_TRAIN_MLR,MAE_MLR,MSE_MLR,np.sqrt(MSE_MLR),R2_MLR]\n",
    "RESULT['PLR(2)']=[MAE_TRAIN_P2,MSE_TRAIN_P2,np.sqrt(MSE_TRAIN_P2),R2_TRAIN_P2,MAE_P2,MSE_P2,np.sqrt(MSE_P2),R2_P2]\n",
    "RESULT['PLR(5)']=[MAE_TRAIN_P5,MSE_TRAIN_P5,np.sqrt(MSE_TRAIN_P5),R2_TRAIN_P5,MAE_P5,MSE_P5,np.sqrt(MSE_P5),R2_P5]\n",
    "RESULT['PLR(10)']=[MAE_TRAIN_P10,MSE_TRAIN_P10,np.sqrt(MSE_TRAIN_P10),R2_TRAIN_P10,MAE_P10,MSE_P10,np.sqrt(MSE_P10),R2_P10]"
   ]
  },
  {
   "cell_type": "code",
   "execution_count": 114,
   "id": "45f31ba0",
   "metadata": {},
   "outputs": [
    {
     "data": {
      "text/html": [
       "<div>\n",
       "<style scoped>\n",
       "    .dataframe tbody tr th:only-of-type {\n",
       "        vertical-align: middle;\n",
       "    }\n",
       "\n",
       "    .dataframe tbody tr th {\n",
       "        vertical-align: top;\n",
       "    }\n",
       "\n",
       "    .dataframe thead th {\n",
       "        text-align: right;\n",
       "    }\n",
       "</style>\n",
       "<table border=\"1\" class=\"dataframe\">\n",
       "  <thead>\n",
       "    <tr style=\"text-align: right;\">\n",
       "      <th></th>\n",
       "      <th></th>\n",
       "      <th>TV</th>\n",
       "      <th>RADIO</th>\n",
       "      <th>NEWSPAPER</th>\n",
       "      <th>MLR</th>\n",
       "      <th>PLR(2)</th>\n",
       "      <th>PLR(5)</th>\n",
       "      <th>PLR(10)</th>\n",
       "      <th>RIDGE</th>\n",
       "      <th>LASSO</th>\n",
       "      <th>ELASTIC NET</th>\n",
       "    </tr>\n",
       "  </thead>\n",
       "  <tbody>\n",
       "    <tr>\n",
       "      <th></th>\n",
       "      <td>MAE</td>\n",
       "      <td>2.586986</td>\n",
       "      <td>3.376773</td>\n",
       "      <td>4.122507</td>\n",
       "      <td>1.289151</td>\n",
       "      <td>0.429114</td>\n",
       "      <td>0.198986</td>\n",
       "      <td>0.068095</td>\n",
       "      <td>1.282287</td>\n",
       "      <td>1.247389</td>\n",
       "      <td>1.254601</td>\n",
       "    </tr>\n",
       "    <tr>\n",
       "      <th>TRAIN</th>\n",
       "      <td>MSE</td>\n",
       "      <td>10.571831</td>\n",
       "      <td>19.028481</td>\n",
       "      <td>25.039493</td>\n",
       "      <td>2.926667</td>\n",
       "      <td>0.398171</td>\n",
       "      <td>0.067864</td>\n",
       "      <td>0.021299</td>\n",
       "      <td>2.901128</td>\n",
       "      <td>2.714324</td>\n",
       "      <td>2.827527</td>\n",
       "    </tr>\n",
       "    <tr>\n",
       "      <th></th>\n",
       "      <td>RMSE</td>\n",
       "      <td>3.251435</td>\n",
       "      <td>4.362165</td>\n",
       "      <td>5.003948</td>\n",
       "      <td>1.710750</td>\n",
       "      <td>0.631008</td>\n",
       "      <td>0.260508</td>\n",
       "      <td>0.145943</td>\n",
       "      <td>1.703270</td>\n",
       "      <td>1.647521</td>\n",
       "      <td>1.681525</td>\n",
       "    </tr>\n",
       "    <tr>\n",
       "      <th></th>\n",
       "      <td>R squared</td>\n",
       "      <td>0.615360</td>\n",
       "      <td>0.302039</td>\n",
       "      <td>0.037188</td>\n",
       "      <td>0.886794</td>\n",
       "      <td>0.985332</td>\n",
       "      <td>0.997510</td>\n",
       "      <td>0.999185</td>\n",
       "      <td>0.894102</td>\n",
       "      <td>0.896858</td>\n",
       "      <td>0.896341</td>\n",
       "    </tr>\n",
       "    <tr>\n",
       "      <th></th>\n",
       "      <td>MAE</td>\n",
       "      <td>2.341989</td>\n",
       "      <td>3.119112</td>\n",
       "      <td>4.369510</td>\n",
       "      <td>1.176415</td>\n",
       "      <td>0.354987</td>\n",
       "      <td>0.337040</td>\n",
       "      <td>140.141204</td>\n",
       "      <td>1.012056</td>\n",
       "      <td>1.410942</td>\n",
       "      <td>1.274304</td>\n",
       "    </tr>\n",
       "    <tr>\n",
       "      <th></th>\n",
       "      <td>MSE</td>\n",
       "      <td>10.189412</td>\n",
       "      <td>12.963851</td>\n",
       "      <td>29.612307</td>\n",
       "      <td>2.081070</td>\n",
       "      <td>0.205453</td>\n",
       "      <td>0.232484</td>\n",
       "      <td>105460.001753</td>\n",
       "      <td>1.737926</td>\n",
       "      <td>3.520690</td>\n",
       "      <td>2.691833</td>\n",
       "    </tr>\n",
       "    <tr>\n",
       "      <th>TEST</th>\n",
       "      <td>RMSE</td>\n",
       "      <td>3.192086</td>\n",
       "      <td>3.600535</td>\n",
       "      <td>5.441719</td>\n",
       "      <td>1.442592</td>\n",
       "      <td>0.453269</td>\n",
       "      <td>0.482166</td>\n",
       "      <td>324.746057</td>\n",
       "      <td>1.318304</td>\n",
       "      <td>1.876350</td>\n",
       "      <td>1.640681</td>\n",
       "    </tr>\n",
       "    <tr>\n",
       "      <th></th>\n",
       "      <td>R squared</td>\n",
       "      <td>0.589372</td>\n",
       "      <td>0.479917</td>\n",
       "      <td>0.105118</td>\n",
       "      <td>0.934817</td>\n",
       "      <td>0.991766</td>\n",
       "      <td>0.990212</td>\n",
       "      <td>-3259.143823</td>\n",
       "      <td>0.926964</td>\n",
       "      <td>0.895983</td>\n",
       "      <td>0.893339</td>\n",
       "    </tr>\n",
       "  </tbody>\n",
       "</table>\n",
       "</div>"
      ],
      "text/plain": [
       "                         TV      RADIO  NEWSPAPER       MLR    PLR(2)  \\\n",
       "             MAE   2.586986   3.376773   4.122507  1.289151  0.429114   \n",
       "TRAIN        MSE  10.571831  19.028481  25.039493  2.926667  0.398171   \n",
       "            RMSE   3.251435   4.362165   5.003948  1.710750  0.631008   \n",
       "       R squared   0.615360   0.302039   0.037188  0.886794  0.985332   \n",
       "             MAE   2.341989   3.119112   4.369510  1.176415  0.354987   \n",
       "             MSE  10.189412  12.963851  29.612307  2.081070  0.205453   \n",
       "TEST        RMSE   3.192086   3.600535   5.441719  1.442592  0.453269   \n",
       "       R squared   0.589372   0.479917   0.105118  0.934817  0.991766   \n",
       "\n",
       "         PLR(5)        PLR(10)     RIDGE     LASSO  ELASTIC NET  \n",
       "       0.198986       0.068095  1.282287  1.247389     1.254601  \n",
       "TRAIN  0.067864       0.021299  2.901128  2.714324     2.827527  \n",
       "       0.260508       0.145943  1.703270  1.647521     1.681525  \n",
       "       0.997510       0.999185  0.894102  0.896858     0.896341  \n",
       "       0.337040     140.141204  1.012056  1.410942     1.274304  \n",
       "       0.232484  105460.001753  1.737926  3.520690     2.691833  \n",
       "TEST   0.482166     324.746057  1.318304  1.876350     1.640681  \n",
       "       0.990212   -3259.143823  0.926964  0.895983     0.893339  "
      ]
     },
     "execution_count": 114,
     "metadata": {},
     "output_type": "execute_result"
    }
   ],
   "source": [
    "RESULT"
   ]
  },
  {
   "cell_type": "markdown",
   "id": "3be2e613",
   "metadata": {},
   "source": [
    "### best params for Ridge={'alpha': 100, 'max_iter': 1000}\n",
    "### best params for Lasso={'alpha': 1, 'max_iter': 1000}\n",
    "### best params for ElasticNet={'alpha': 1, 'max_iter': 100}"
   ]
  },
  {
   "cell_type": "code",
   "execution_count": 110,
   "id": "1ca65d05",
   "metadata": {},
   "outputs": [],
   "source": [
    "RESULT['RIDGE']=(1.2822865860419466,\n",
    " 2.9011280145495926,\n",
    " 1.7032698008681986,\n",
    " 0.8941019936973649,\n",
    " 1.0120557803566186,\n",
    " 1.7379257816005123,\n",
    " 1.318304130919915,\n",
    " 0.9269640990271055)"
   ]
  },
  {
   "cell_type": "code",
   "execution_count": 112,
   "id": "92aad957",
   "metadata": {},
   "outputs": [],
   "source": [
    "RESULT['LASSO']=(1.2473885768078976,\n",
    " 2.7143244161299647,\n",
    " 1.6475206876182056,\n",
    " 0.8968580106451645,\n",
    " 1.4109420696568704,\n",
    " 3.52068964358842,\n",
    " 1.8763500855619721,\n",
    " 0.8959834538668134)"
   ]
  },
  {
   "cell_type": "code",
   "execution_count": 113,
   "id": "9dc9a5ac",
   "metadata": {},
   "outputs": [],
   "source": [
    "RESULT['ELASTIC NET']=(1.2546013510662943,\n",
    " 2.827527250965438,\n",
    " 1.681525275149154,\n",
    " 0.896341211995957,\n",
    " 1.2743043364004556,\n",
    " 2.6918332896790145,\n",
    " 1.640680739717211,\n",
    " 0.8933386711014291)"
   ]
  },
  {
   "cell_type": "code",
   "execution_count": null,
   "id": "aa833bb1",
   "metadata": {},
   "outputs": [],
   "source": []
  },
  {
   "cell_type": "code",
   "execution_count": null,
   "id": "e670ba38",
   "metadata": {},
   "outputs": [],
   "source": []
  },
  {
   "cell_type": "code",
   "execution_count": null,
   "id": "f96ca241",
   "metadata": {},
   "outputs": [],
   "source": []
  },
  {
   "cell_type": "code",
   "execution_count": null,
   "id": "64a4c7ab",
   "metadata": {},
   "outputs": [],
   "source": []
  },
  {
   "cell_type": "code",
   "execution_count": null,
   "id": "83384ca2",
   "metadata": {},
   "outputs": [],
   "source": []
  },
  {
   "cell_type": "code",
   "execution_count": null,
   "id": "0998cb82",
   "metadata": {},
   "outputs": [],
   "source": []
  },
  {
   "cell_type": "code",
   "execution_count": null,
   "id": "ee2aaeaf",
   "metadata": {},
   "outputs": [],
   "source": []
  },
  {
   "cell_type": "code",
   "execution_count": null,
   "id": "b999d8f8",
   "metadata": {},
   "outputs": [],
   "source": []
  },
  {
   "cell_type": "code",
   "execution_count": null,
   "id": "ac1f0943",
   "metadata": {},
   "outputs": [],
   "source": []
  },
  {
   "cell_type": "code",
   "execution_count": null,
   "id": "10fe8ad7",
   "metadata": {},
   "outputs": [],
   "source": []
  },
  {
   "cell_type": "code",
   "execution_count": null,
   "id": "d53d2889",
   "metadata": {},
   "outputs": [],
   "source": []
  },
  {
   "cell_type": "code",
   "execution_count": null,
   "id": "83102f81",
   "metadata": {},
   "outputs": [],
   "source": []
  },
  {
   "cell_type": "code",
   "execution_count": null,
   "id": "74581393",
   "metadata": {},
   "outputs": [],
   "source": []
  },
  {
   "cell_type": "code",
   "execution_count": null,
   "id": "2a55e048",
   "metadata": {},
   "outputs": [],
   "source": []
  },
  {
   "cell_type": "code",
   "execution_count": null,
   "id": "041837b4",
   "metadata": {},
   "outputs": [],
   "source": []
  },
  {
   "cell_type": "code",
   "execution_count": null,
   "id": "26e9f657",
   "metadata": {},
   "outputs": [],
   "source": []
  },
  {
   "cell_type": "code",
   "execution_count": null,
   "id": "b6ec38bf",
   "metadata": {},
   "outputs": [],
   "source": []
  },
  {
   "cell_type": "code",
   "execution_count": null,
   "id": "aaa16647",
   "metadata": {},
   "outputs": [],
   "source": []
  },
  {
   "cell_type": "code",
   "execution_count": null,
   "id": "9c0fe149",
   "metadata": {},
   "outputs": [],
   "source": []
  },
  {
   "cell_type": "code",
   "execution_count": null,
   "id": "3656a0b8",
   "metadata": {},
   "outputs": [],
   "source": []
  },
  {
   "cell_type": "code",
   "execution_count": null,
   "id": "60cc9c24",
   "metadata": {},
   "outputs": [],
   "source": []
  },
  {
   "cell_type": "code",
   "execution_count": null,
   "id": "d07d5338",
   "metadata": {},
   "outputs": [],
   "source": []
  },
  {
   "cell_type": "code",
   "execution_count": null,
   "id": "e92fe04c",
   "metadata": {},
   "outputs": [],
   "source": []
  }
 ],
 "metadata": {
  "kernelspec": {
   "display_name": "Python 3 (ipykernel)",
   "language": "python",
   "name": "python3"
  },
  "language_info": {
   "codemirror_mode": {
    "name": "ipython",
    "version": 3
   },
   "file_extension": ".py",
   "mimetype": "text/x-python",
   "name": "python",
   "nbconvert_exporter": "python",
   "pygments_lexer": "ipython3",
   "version": "3.9.12"
  }
 },
 "nbformat": 4,
 "nbformat_minor": 5
}
