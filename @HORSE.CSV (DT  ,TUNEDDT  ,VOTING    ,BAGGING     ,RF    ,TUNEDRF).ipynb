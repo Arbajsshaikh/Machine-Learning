{
 "cells": [
  {
   "cell_type": "code",
   "execution_count": 1,
   "id": "564a931b",
   "metadata": {},
   "outputs": [
    {
     "data": {
      "text/html": [
       "<div>\n",
       "<style scoped>\n",
       "    .dataframe tbody tr th:only-of-type {\n",
       "        vertical-align: middle;\n",
       "    }\n",
       "\n",
       "    .dataframe tbody tr th {\n",
       "        vertical-align: top;\n",
       "    }\n",
       "\n",
       "    .dataframe thead th {\n",
       "        text-align: right;\n",
       "    }\n",
       "</style>\n",
       "<table border=\"1\" class=\"dataframe\">\n",
       "  <thead>\n",
       "    <tr style=\"text-align: right;\">\n",
       "      <th></th>\n",
       "      <th>surgery</th>\n",
       "      <th>age</th>\n",
       "      <th>hospital_number</th>\n",
       "      <th>rectal_temp</th>\n",
       "      <th>pulse</th>\n",
       "      <th>respiratory_rate</th>\n",
       "      <th>temp_of_extremities</th>\n",
       "      <th>peripheral_pulse</th>\n",
       "      <th>mucous_membrane</th>\n",
       "      <th>capillary_refill_time</th>\n",
       "      <th>...</th>\n",
       "      <th>packed_cell_volume</th>\n",
       "      <th>total_protein</th>\n",
       "      <th>abdomo_appearance</th>\n",
       "      <th>abdomo_protein</th>\n",
       "      <th>outcome</th>\n",
       "      <th>surgical_lesion</th>\n",
       "      <th>lesion_1</th>\n",
       "      <th>lesion_2</th>\n",
       "      <th>lesion_3</th>\n",
       "      <th>cp_data</th>\n",
       "    </tr>\n",
       "  </thead>\n",
       "  <tbody>\n",
       "    <tr>\n",
       "      <th>0</th>\n",
       "      <td>no</td>\n",
       "      <td>adult</td>\n",
       "      <td>530101</td>\n",
       "      <td>38.5</td>\n",
       "      <td>66.0</td>\n",
       "      <td>28.0</td>\n",
       "      <td>cool</td>\n",
       "      <td>reduced</td>\n",
       "      <td>NaN</td>\n",
       "      <td>more_3_sec</td>\n",
       "      <td>...</td>\n",
       "      <td>45.0</td>\n",
       "      <td>8.4</td>\n",
       "      <td>NaN</td>\n",
       "      <td>NaN</td>\n",
       "      <td>died</td>\n",
       "      <td>no</td>\n",
       "      <td>11300</td>\n",
       "      <td>0</td>\n",
       "      <td>0</td>\n",
       "      <td>no</td>\n",
       "    </tr>\n",
       "    <tr>\n",
       "      <th>1</th>\n",
       "      <td>yes</td>\n",
       "      <td>adult</td>\n",
       "      <td>534817</td>\n",
       "      <td>39.2</td>\n",
       "      <td>88.0</td>\n",
       "      <td>20.0</td>\n",
       "      <td>NaN</td>\n",
       "      <td>NaN</td>\n",
       "      <td>pale_cyanotic</td>\n",
       "      <td>less_3_sec</td>\n",
       "      <td>...</td>\n",
       "      <td>50.0</td>\n",
       "      <td>85.0</td>\n",
       "      <td>cloudy</td>\n",
       "      <td>2.0</td>\n",
       "      <td>euthanized</td>\n",
       "      <td>no</td>\n",
       "      <td>2208</td>\n",
       "      <td>0</td>\n",
       "      <td>0</td>\n",
       "      <td>no</td>\n",
       "    </tr>\n",
       "    <tr>\n",
       "      <th>2</th>\n",
       "      <td>no</td>\n",
       "      <td>adult</td>\n",
       "      <td>530334</td>\n",
       "      <td>38.3</td>\n",
       "      <td>40.0</td>\n",
       "      <td>24.0</td>\n",
       "      <td>normal</td>\n",
       "      <td>normal</td>\n",
       "      <td>pale_pink</td>\n",
       "      <td>less_3_sec</td>\n",
       "      <td>...</td>\n",
       "      <td>33.0</td>\n",
       "      <td>6.7</td>\n",
       "      <td>NaN</td>\n",
       "      <td>NaN</td>\n",
       "      <td>lived</td>\n",
       "      <td>no</td>\n",
       "      <td>0</td>\n",
       "      <td>0</td>\n",
       "      <td>0</td>\n",
       "      <td>yes</td>\n",
       "    </tr>\n",
       "    <tr>\n",
       "      <th>3</th>\n",
       "      <td>yes</td>\n",
       "      <td>young</td>\n",
       "      <td>5290409</td>\n",
       "      <td>39.1</td>\n",
       "      <td>164.0</td>\n",
       "      <td>84.0</td>\n",
       "      <td>cold</td>\n",
       "      <td>normal</td>\n",
       "      <td>dark_cyanotic</td>\n",
       "      <td>more_3_sec</td>\n",
       "      <td>...</td>\n",
       "      <td>48.0</td>\n",
       "      <td>7.2</td>\n",
       "      <td>serosanguious</td>\n",
       "      <td>5.3</td>\n",
       "      <td>died</td>\n",
       "      <td>yes</td>\n",
       "      <td>2208</td>\n",
       "      <td>0</td>\n",
       "      <td>0</td>\n",
       "      <td>yes</td>\n",
       "    </tr>\n",
       "    <tr>\n",
       "      <th>4</th>\n",
       "      <td>no</td>\n",
       "      <td>adult</td>\n",
       "      <td>530255</td>\n",
       "      <td>37.3</td>\n",
       "      <td>104.0</td>\n",
       "      <td>35.0</td>\n",
       "      <td>NaN</td>\n",
       "      <td>NaN</td>\n",
       "      <td>dark_cyanotic</td>\n",
       "      <td>more_3_sec</td>\n",
       "      <td>...</td>\n",
       "      <td>74.0</td>\n",
       "      <td>7.4</td>\n",
       "      <td>NaN</td>\n",
       "      <td>NaN</td>\n",
       "      <td>died</td>\n",
       "      <td>no</td>\n",
       "      <td>4300</td>\n",
       "      <td>0</td>\n",
       "      <td>0</td>\n",
       "      <td>no</td>\n",
       "    </tr>\n",
       "  </tbody>\n",
       "</table>\n",
       "<p>5 rows × 28 columns</p>\n",
       "</div>"
      ],
      "text/plain": [
       "  surgery    age  hospital_number  rectal_temp  pulse  respiratory_rate  \\\n",
       "0      no  adult           530101         38.5   66.0              28.0   \n",
       "1     yes  adult           534817         39.2   88.0              20.0   \n",
       "2      no  adult           530334         38.3   40.0              24.0   \n",
       "3     yes  young          5290409         39.1  164.0              84.0   \n",
       "4      no  adult           530255         37.3  104.0              35.0   \n",
       "\n",
       "  temp_of_extremities peripheral_pulse mucous_membrane capillary_refill_time  \\\n",
       "0                cool          reduced             NaN            more_3_sec   \n",
       "1                 NaN              NaN   pale_cyanotic            less_3_sec   \n",
       "2              normal           normal       pale_pink            less_3_sec   \n",
       "3                cold           normal   dark_cyanotic            more_3_sec   \n",
       "4                 NaN              NaN   dark_cyanotic            more_3_sec   \n",
       "\n",
       "   ... packed_cell_volume total_protein abdomo_appearance abdomo_protein  \\\n",
       "0  ...               45.0           8.4               NaN            NaN   \n",
       "1  ...               50.0          85.0            cloudy            2.0   \n",
       "2  ...               33.0           6.7               NaN            NaN   \n",
       "3  ...               48.0           7.2     serosanguious            5.3   \n",
       "4  ...               74.0           7.4               NaN            NaN   \n",
       "\n",
       "      outcome  surgical_lesion lesion_1 lesion_2  lesion_3  cp_data  \n",
       "0        died               no    11300        0         0       no  \n",
       "1  euthanized               no     2208        0         0       no  \n",
       "2       lived               no        0        0         0      yes  \n",
       "3        died              yes     2208        0         0      yes  \n",
       "4        died               no     4300        0         0       no  \n",
       "\n",
       "[5 rows x 28 columns]"
      ]
     },
     "execution_count": 1,
     "metadata": {},
     "output_type": "execute_result"
    }
   ],
   "source": [
    "import pandas as pd\n",
    "X=pd.read_csv(r\"C:\\Users\\Arbaj\\Desktop\\Demo Datasets\\Lesson 6\\horse.csv\")\n",
    "X.head()"
   ]
  },
  {
   "cell_type": "code",
   "execution_count": null,
   "id": "a6d76e5b",
   "metadata": {},
   "outputs": [],
   "source": []
  },
  {
   "cell_type": "code",
   "execution_count": 2,
   "id": "07d356cf",
   "metadata": {},
   "outputs": [],
   "source": [
    "x=X.drop(['outcome'],axis=1)\n",
    "y=X[['outcome']]"
   ]
  },
  {
   "cell_type": "code",
   "execution_count": 3,
   "id": "db73140a",
   "metadata": {},
   "outputs": [
    {
     "name": "stdout",
     "output_type": "stream",
     "text": [
      "<class 'pandas.core.frame.DataFrame'>\n",
      "RangeIndex: 299 entries, 0 to 298\n",
      "Data columns (total 27 columns):\n",
      " #   Column                 Non-Null Count  Dtype  \n",
      "---  ------                 --------------  -----  \n",
      " 0   surgery                299 non-null    object \n",
      " 1   age                    299 non-null    object \n",
      " 2   hospital_number        299 non-null    int64  \n",
      " 3   rectal_temp            239 non-null    float64\n",
      " 4   pulse                  275 non-null    float64\n",
      " 5   respiratory_rate       241 non-null    float64\n",
      " 6   temp_of_extremities    243 non-null    object \n",
      " 7   peripheral_pulse       230 non-null    object \n",
      " 8   mucous_membrane        252 non-null    object \n",
      " 9   capillary_refill_time  267 non-null    object \n",
      " 10  pain                   244 non-null    object \n",
      " 11  peristalsis            255 non-null    object \n",
      " 12  abdominal_distention   243 non-null    object \n",
      " 13  nasogastric_tube       195 non-null    object \n",
      " 14  nasogastric_reflux     193 non-null    object \n",
      " 15  nasogastric_reflux_ph  53 non-null     float64\n",
      " 16  rectal_exam_feces      197 non-null    object \n",
      " 17  abdomen                181 non-null    object \n",
      " 18  packed_cell_volume     270 non-null    float64\n",
      " 19  total_protein          266 non-null    float64\n",
      " 20  abdomo_appearance      134 non-null    object \n",
      " 21  abdomo_protein         101 non-null    float64\n",
      " 22  surgical_lesion        299 non-null    object \n",
      " 23  lesion_1               299 non-null    int64  \n",
      " 24  lesion_2               299 non-null    int64  \n",
      " 25  lesion_3               299 non-null    int64  \n",
      " 26  cp_data                299 non-null    object \n",
      "dtypes: float64(7), int64(4), object(16)\n",
      "memory usage: 63.2+ KB\n"
     ]
    }
   ],
   "source": [
    "x.info()"
   ]
  },
  {
   "cell_type": "code",
   "execution_count": 4,
   "id": "b6a7d9bb",
   "metadata": {},
   "outputs": [
    {
     "name": "stderr",
     "output_type": "stream",
     "text": [
      "C:\\Users\\Arbaj\\AppData\\Local\\Temp/ipykernel_27868/3197331303.py:1: FutureWarning: Index.__and__ operating as a set operation is deprecated, in the future this will be a logical operation matching Series.__and__.  Use index.intersection(other) instead\n",
      "  A=((x.columns[x.dtypes=='float64']) & (x.columns[x.isna().sum()>0]))\n"
     ]
    },
    {
     "data": {
      "text/plain": [
       "Index(['rectal_temp', 'pulse', 'respiratory_rate', 'nasogastric_reflux_ph',\n",
       "       'packed_cell_volume', 'total_protein', 'abdomo_protein'],\n",
       "      dtype='object')"
      ]
     },
     "execution_count": 4,
     "metadata": {},
     "output_type": "execute_result"
    }
   ],
   "source": [
    "A=((x.columns[x.dtypes=='float64']) & (x.columns[x.isna().sum()>0]))\n",
    "A"
   ]
  },
  {
   "cell_type": "code",
   "execution_count": 5,
   "id": "0df210eb",
   "metadata": {},
   "outputs": [
    {
     "name": "stderr",
     "output_type": "stream",
     "text": [
      "C:\\Users\\Arbaj\\AppData\\Local\\Temp/ipykernel_27868/2999573845.py:1: FutureWarning: Index.__and__ operating as a set operation is deprecated, in the future this will be a logical operation matching Series.__and__.  Use index.intersection(other) instead\n",
      "  B=((x.columns[x.dtypes=='object']) & (x.columns[x.isna().sum()>0]))\n"
     ]
    },
    {
     "data": {
      "text/plain": [
       "Index(['temp_of_extremities', 'peripheral_pulse', 'mucous_membrane',\n",
       "       'capillary_refill_time', 'pain', 'peristalsis', 'abdominal_distention',\n",
       "       'nasogastric_tube', 'nasogastric_reflux', 'rectal_exam_feces',\n",
       "       'abdomen', 'abdomo_appearance'],\n",
       "      dtype='object')"
      ]
     },
     "execution_count": 5,
     "metadata": {},
     "output_type": "execute_result"
    }
   ],
   "source": [
    "B=((x.columns[x.dtypes=='object']) & (x.columns[x.isna().sum()>0]))\n",
    "B"
   ]
  },
  {
   "cell_type": "code",
   "execution_count": 6,
   "id": "26e9f141",
   "metadata": {},
   "outputs": [],
   "source": [
    "for i in A:\n",
    "    x[i]=x[i].fillna(x[i].mean())"
   ]
  },
  {
   "cell_type": "code",
   "execution_count": 7,
   "id": "260b6919",
   "metadata": {},
   "outputs": [],
   "source": [
    "for i in B:\n",
    "    x[i]=x[i].fillna(x[i].mode()[0])"
   ]
  },
  {
   "cell_type": "code",
   "execution_count": 8,
   "id": "4225a496",
   "metadata": {},
   "outputs": [],
   "source": [
    "x['temp_of_extremities'].replace(['cold'],'cool',inplace=True)"
   ]
  },
  {
   "cell_type": "code",
   "execution_count": 9,
   "id": "1f00fd8d",
   "metadata": {},
   "outputs": [],
   "source": [
    "from sklearn.preprocessing import MinMaxScaler,StandardScaler,LabelEncoder\n",
    "col=['age','temp_of_extremities','peripheral_pulse','capillary_refill_time']\n",
    "le=LabelEncoder()\n",
    "for i in col:\n",
    "    x[i]=le.fit_transform(x[i])"
   ]
  },
  {
   "cell_type": "code",
   "execution_count": 10,
   "id": "bcab1948",
   "metadata": {},
   "outputs": [],
   "source": [
    "x=pd.get_dummies(x)"
   ]
  },
  {
   "cell_type": "code",
   "execution_count": 11,
   "id": "e3730ea9",
   "metadata": {},
   "outputs": [],
   "source": [
    "stdsc=StandardScaler()\n",
    "cols=x.columns\n",
    "for i in cols:\n",
    "    x[i]=stdsc.fit_transform(x[[i]])"
   ]
  },
  {
   "cell_type": "code",
   "execution_count": 12,
   "id": "ef890913",
   "metadata": {},
   "outputs": [
    {
     "data": {
      "text/html": [
       "<div>\n",
       "<style scoped>\n",
       "    .dataframe tbody tr th:only-of-type {\n",
       "        vertical-align: middle;\n",
       "    }\n",
       "\n",
       "    .dataframe tbody tr th {\n",
       "        vertical-align: top;\n",
       "    }\n",
       "\n",
       "    .dataframe thead th {\n",
       "        text-align: right;\n",
       "    }\n",
       "</style>\n",
       "<table border=\"1\" class=\"dataframe\">\n",
       "  <thead>\n",
       "    <tr style=\"text-align: right;\">\n",
       "      <th></th>\n",
       "      <th>age</th>\n",
       "      <th>hospital_number</th>\n",
       "      <th>rectal_temp</th>\n",
       "      <th>pulse</th>\n",
       "      <th>respiratory_rate</th>\n",
       "      <th>temp_of_extremities</th>\n",
       "      <th>peripheral_pulse</th>\n",
       "      <th>capillary_refill_time</th>\n",
       "      <th>nasogastric_reflux_ph</th>\n",
       "      <th>packed_cell_volume</th>\n",
       "      <th>...</th>\n",
       "      <th>abdomen_firm</th>\n",
       "      <th>abdomen_normal</th>\n",
       "      <th>abdomen_other</th>\n",
       "      <th>abdomo_appearance_clear</th>\n",
       "      <th>abdomo_appearance_cloudy</th>\n",
       "      <th>abdomo_appearance_serosanguious</th>\n",
       "      <th>surgical_lesion_no</th>\n",
       "      <th>surgical_lesion_yes</th>\n",
       "      <th>cp_data_no</th>\n",
       "      <th>cp_data_yes</th>\n",
       "    </tr>\n",
       "  </thead>\n",
       "  <tbody>\n",
       "    <tr>\n",
       "      <th>0</th>\n",
       "      <td>-0.295420</td>\n",
       "      <td>-0.364592</td>\n",
       "      <td>5.062087e-01</td>\n",
       "      <td>-0.218798</td>\n",
       "      <td>-0.155463</td>\n",
       "      <td>-0.688641</td>\n",
       "      <td>1.157667</td>\n",
       "      <td>1.655535</td>\n",
       "      <td>0.000000</td>\n",
       "      <td>-0.132070</td>\n",
       "      <td>...</td>\n",
       "      <td>-0.213201</td>\n",
       "      <td>-0.321436</td>\n",
       "      <td>-0.260494</td>\n",
       "      <td>-0.398641</td>\n",
       "      <td>0.640607</td>\n",
       "      <td>-0.426401</td>\n",
       "      <td>1.320272</td>\n",
       "      <td>-1.320272</td>\n",
       "      <td>0.703562</td>\n",
       "      <td>-0.703562</td>\n",
       "    </tr>\n",
       "    <tr>\n",
       "      <th>1</th>\n",
       "      <td>-0.295420</td>\n",
       "      <td>-0.361509</td>\n",
       "      <td>1.575511e+00</td>\n",
       "      <td>0.583463</td>\n",
       "      <td>-0.660914</td>\n",
       "      <td>-0.688641</td>\n",
       "      <td>-0.437459</td>\n",
       "      <td>-0.564218</td>\n",
       "      <td>0.000000</td>\n",
       "      <td>0.373015</td>\n",
       "      <td>...</td>\n",
       "      <td>-0.213201</td>\n",
       "      <td>-0.321436</td>\n",
       "      <td>3.838859</td>\n",
       "      <td>-0.398641</td>\n",
       "      <td>0.640607</td>\n",
       "      <td>-0.426401</td>\n",
       "      <td>1.320272</td>\n",
       "      <td>-1.320272</td>\n",
       "      <td>0.703562</td>\n",
       "      <td>-0.703562</td>\n",
       "    </tr>\n",
       "    <tr>\n",
       "      <th>2</th>\n",
       "      <td>-0.295420</td>\n",
       "      <td>-0.364440</td>\n",
       "      <td>2.006938e-01</td>\n",
       "      <td>-1.166925</td>\n",
       "      <td>-0.408189</td>\n",
       "      <td>0.803415</td>\n",
       "      <td>-0.437459</td>\n",
       "      <td>-0.564218</td>\n",
       "      <td>0.000000</td>\n",
       "      <td>-1.344274</td>\n",
       "      <td>...</td>\n",
       "      <td>-0.213201</td>\n",
       "      <td>3.111040</td>\n",
       "      <td>-0.260494</td>\n",
       "      <td>-0.398641</td>\n",
       "      <td>0.640607</td>\n",
       "      <td>-0.426401</td>\n",
       "      <td>1.320272</td>\n",
       "      <td>-1.320272</td>\n",
       "      <td>-1.421338</td>\n",
       "      <td>1.421338</td>\n",
       "    </tr>\n",
       "    <tr>\n",
       "      <th>3</th>\n",
       "      <td>3.385016</td>\n",
       "      <td>2.747804</td>\n",
       "      <td>1.422753e+00</td>\n",
       "      <td>3.354910</td>\n",
       "      <td>3.382695</td>\n",
       "      <td>-0.688641</td>\n",
       "      <td>-0.437459</td>\n",
       "      <td>1.655535</td>\n",
       "      <td>0.353768</td>\n",
       "      <td>0.170981</td>\n",
       "      <td>...</td>\n",
       "      <td>-0.213201</td>\n",
       "      <td>-0.321436</td>\n",
       "      <td>-0.260494</td>\n",
       "      <td>-0.398641</td>\n",
       "      <td>-1.561019</td>\n",
       "      <td>2.345208</td>\n",
       "      <td>-0.757419</td>\n",
       "      <td>0.757419</td>\n",
       "      <td>-1.421338</td>\n",
       "      <td>1.421338</td>\n",
       "    </tr>\n",
       "    <tr>\n",
       "      <th>4</th>\n",
       "      <td>-0.295420</td>\n",
       "      <td>-0.364491</td>\n",
       "      <td>-1.326880e+00</td>\n",
       "      <td>1.166925</td>\n",
       "      <td>0.286807</td>\n",
       "      <td>-0.688641</td>\n",
       "      <td>-0.437459</td>\n",
       "      <td>1.655535</td>\n",
       "      <td>0.000000</td>\n",
       "      <td>2.797423</td>\n",
       "      <td>...</td>\n",
       "      <td>-0.213201</td>\n",
       "      <td>-0.321436</td>\n",
       "      <td>-0.260494</td>\n",
       "      <td>-0.398641</td>\n",
       "      <td>0.640607</td>\n",
       "      <td>-0.426401</td>\n",
       "      <td>1.320272</td>\n",
       "      <td>-1.320272</td>\n",
       "      <td>0.703562</td>\n",
       "      <td>-0.703562</td>\n",
       "    </tr>\n",
       "    <tr>\n",
       "      <th>...</th>\n",
       "      <td>...</td>\n",
       "      <td>...</td>\n",
       "      <td>...</td>\n",
       "      <td>...</td>\n",
       "      <td>...</td>\n",
       "      <td>...</td>\n",
       "      <td>...</td>\n",
       "      <td>...</td>\n",
       "      <td>...</td>\n",
       "      <td>...</td>\n",
       "      <td>...</td>\n",
       "      <td>...</td>\n",
       "      <td>...</td>\n",
       "      <td>...</td>\n",
       "      <td>...</td>\n",
       "      <td>...</td>\n",
       "      <td>...</td>\n",
       "      <td>...</td>\n",
       "      <td>...</td>\n",
       "      <td>...</td>\n",
       "      <td>...</td>\n",
       "    </tr>\n",
       "    <tr>\n",
       "      <th>294</th>\n",
       "      <td>-0.295420</td>\n",
       "      <td>-0.362117</td>\n",
       "      <td>2.170813e-14</td>\n",
       "      <td>1.750388</td>\n",
       "      <td>2.498156</td>\n",
       "      <td>-0.688641</td>\n",
       "      <td>-0.437459</td>\n",
       "      <td>1.655535</td>\n",
       "      <td>0.000000</td>\n",
       "      <td>0.878100</td>\n",
       "      <td>...</td>\n",
       "      <td>-0.213201</td>\n",
       "      <td>-0.321436</td>\n",
       "      <td>-0.260494</td>\n",
       "      <td>-0.398641</td>\n",
       "      <td>0.640607</td>\n",
       "      <td>-0.426401</td>\n",
       "      <td>1.320272</td>\n",
       "      <td>-1.320272</td>\n",
       "      <td>0.703562</td>\n",
       "      <td>-0.703562</td>\n",
       "    </tr>\n",
       "    <tr>\n",
       "      <th>295</th>\n",
       "      <td>-0.295420</td>\n",
       "      <td>-0.366161</td>\n",
       "      <td>-1.479638e+00</td>\n",
       "      <td>0.000000</td>\n",
       "      <td>-0.408189</td>\n",
       "      <td>-0.688641</td>\n",
       "      <td>-2.032585</td>\n",
       "      <td>1.655535</td>\n",
       "      <td>0.000000</td>\n",
       "      <td>-0.233087</td>\n",
       "      <td>...</td>\n",
       "      <td>-0.213201</td>\n",
       "      <td>-0.321436</td>\n",
       "      <td>-0.260494</td>\n",
       "      <td>-0.398641</td>\n",
       "      <td>-1.561019</td>\n",
       "      <td>2.345208</td>\n",
       "      <td>-0.757419</td>\n",
       "      <td>0.757419</td>\n",
       "      <td>-1.421338</td>\n",
       "      <td>1.421338</td>\n",
       "    </tr>\n",
       "    <tr>\n",
       "      <th>296</th>\n",
       "      <td>-0.295420</td>\n",
       "      <td>-0.365060</td>\n",
       "      <td>-1.021366e+00</td>\n",
       "      <td>0.000000</td>\n",
       "      <td>-0.029100</td>\n",
       "      <td>-0.688641</td>\n",
       "      <td>1.157667</td>\n",
       "      <td>-0.564218</td>\n",
       "      <td>0.000000</td>\n",
       "      <td>1.383185</td>\n",
       "      <td>...</td>\n",
       "      <td>-0.213201</td>\n",
       "      <td>-0.321436</td>\n",
       "      <td>-0.260494</td>\n",
       "      <td>-0.398641</td>\n",
       "      <td>0.640607</td>\n",
       "      <td>-0.426401</td>\n",
       "      <td>-0.757419</td>\n",
       "      <td>0.757419</td>\n",
       "      <td>0.703562</td>\n",
       "      <td>-0.703562</td>\n",
       "    </tr>\n",
       "    <tr>\n",
       "      <th>297</th>\n",
       "      <td>-0.295420</td>\n",
       "      <td>-0.364258</td>\n",
       "      <td>-2.548940e+00</td>\n",
       "      <td>1.021059</td>\n",
       "      <td>-0.408189</td>\n",
       "      <td>-0.688641</td>\n",
       "      <td>1.157667</td>\n",
       "      <td>-0.564218</td>\n",
       "      <td>0.000000</td>\n",
       "      <td>0.373015</td>\n",
       "      <td>...</td>\n",
       "      <td>-0.213201</td>\n",
       "      <td>-0.321436</td>\n",
       "      <td>-0.260494</td>\n",
       "      <td>-0.398641</td>\n",
       "      <td>-1.561019</td>\n",
       "      <td>2.345208</td>\n",
       "      <td>-0.757419</td>\n",
       "      <td>0.757419</td>\n",
       "      <td>-1.421338</td>\n",
       "      <td>1.421338</td>\n",
       "    </tr>\n",
       "    <tr>\n",
       "      <th>298</th>\n",
       "      <td>-0.295420</td>\n",
       "      <td>-0.361639</td>\n",
       "      <td>-1.479638e+00</td>\n",
       "      <td>-1.166925</td>\n",
       "      <td>-0.660914</td>\n",
       "      <td>-0.688641</td>\n",
       "      <td>-0.437459</td>\n",
       "      <td>-0.564218</td>\n",
       "      <td>0.000000</td>\n",
       "      <td>-1.041223</td>\n",
       "      <td>...</td>\n",
       "      <td>-0.213201</td>\n",
       "      <td>3.111040</td>\n",
       "      <td>-0.260494</td>\n",
       "      <td>2.508522</td>\n",
       "      <td>-1.561019</td>\n",
       "      <td>-0.426401</td>\n",
       "      <td>1.320272</td>\n",
       "      <td>-1.320272</td>\n",
       "      <td>0.703562</td>\n",
       "      <td>-0.703562</td>\n",
       "    </tr>\n",
       "  </tbody>\n",
       "</table>\n",
       "<p>299 rows × 58 columns</p>\n",
       "</div>"
      ],
      "text/plain": [
       "          age  hospital_number   rectal_temp     pulse  respiratory_rate  \\\n",
       "0   -0.295420        -0.364592  5.062087e-01 -0.218798         -0.155463   \n",
       "1   -0.295420        -0.361509  1.575511e+00  0.583463         -0.660914   \n",
       "2   -0.295420        -0.364440  2.006938e-01 -1.166925         -0.408189   \n",
       "3    3.385016         2.747804  1.422753e+00  3.354910          3.382695   \n",
       "4   -0.295420        -0.364491 -1.326880e+00  1.166925          0.286807   \n",
       "..        ...              ...           ...       ...               ...   \n",
       "294 -0.295420        -0.362117  2.170813e-14  1.750388          2.498156   \n",
       "295 -0.295420        -0.366161 -1.479638e+00  0.000000         -0.408189   \n",
       "296 -0.295420        -0.365060 -1.021366e+00  0.000000         -0.029100   \n",
       "297 -0.295420        -0.364258 -2.548940e+00  1.021059         -0.408189   \n",
       "298 -0.295420        -0.361639 -1.479638e+00 -1.166925         -0.660914   \n",
       "\n",
       "     temp_of_extremities  peripheral_pulse  capillary_refill_time  \\\n",
       "0              -0.688641          1.157667               1.655535   \n",
       "1              -0.688641         -0.437459              -0.564218   \n",
       "2               0.803415         -0.437459              -0.564218   \n",
       "3              -0.688641         -0.437459               1.655535   \n",
       "4              -0.688641         -0.437459               1.655535   \n",
       "..                   ...               ...                    ...   \n",
       "294            -0.688641         -0.437459               1.655535   \n",
       "295            -0.688641         -2.032585               1.655535   \n",
       "296            -0.688641          1.157667              -0.564218   \n",
       "297            -0.688641          1.157667              -0.564218   \n",
       "298            -0.688641         -0.437459              -0.564218   \n",
       "\n",
       "     nasogastric_reflux_ph  packed_cell_volume  ...  abdomen_firm  \\\n",
       "0                 0.000000           -0.132070  ...     -0.213201   \n",
       "1                 0.000000            0.373015  ...     -0.213201   \n",
       "2                 0.000000           -1.344274  ...     -0.213201   \n",
       "3                 0.353768            0.170981  ...     -0.213201   \n",
       "4                 0.000000            2.797423  ...     -0.213201   \n",
       "..                     ...                 ...  ...           ...   \n",
       "294               0.000000            0.878100  ...     -0.213201   \n",
       "295               0.000000           -0.233087  ...     -0.213201   \n",
       "296               0.000000            1.383185  ...     -0.213201   \n",
       "297               0.000000            0.373015  ...     -0.213201   \n",
       "298               0.000000           -1.041223  ...     -0.213201   \n",
       "\n",
       "     abdomen_normal  abdomen_other  abdomo_appearance_clear  \\\n",
       "0         -0.321436      -0.260494                -0.398641   \n",
       "1         -0.321436       3.838859                -0.398641   \n",
       "2          3.111040      -0.260494                -0.398641   \n",
       "3         -0.321436      -0.260494                -0.398641   \n",
       "4         -0.321436      -0.260494                -0.398641   \n",
       "..              ...            ...                      ...   \n",
       "294       -0.321436      -0.260494                -0.398641   \n",
       "295       -0.321436      -0.260494                -0.398641   \n",
       "296       -0.321436      -0.260494                -0.398641   \n",
       "297       -0.321436      -0.260494                -0.398641   \n",
       "298        3.111040      -0.260494                 2.508522   \n",
       "\n",
       "     abdomo_appearance_cloudy  abdomo_appearance_serosanguious  \\\n",
       "0                    0.640607                        -0.426401   \n",
       "1                    0.640607                        -0.426401   \n",
       "2                    0.640607                        -0.426401   \n",
       "3                   -1.561019                         2.345208   \n",
       "4                    0.640607                        -0.426401   \n",
       "..                        ...                              ...   \n",
       "294                  0.640607                        -0.426401   \n",
       "295                 -1.561019                         2.345208   \n",
       "296                  0.640607                        -0.426401   \n",
       "297                 -1.561019                         2.345208   \n",
       "298                 -1.561019                        -0.426401   \n",
       "\n",
       "     surgical_lesion_no  surgical_lesion_yes  cp_data_no  cp_data_yes  \n",
       "0              1.320272            -1.320272    0.703562    -0.703562  \n",
       "1              1.320272            -1.320272    0.703562    -0.703562  \n",
       "2              1.320272            -1.320272   -1.421338     1.421338  \n",
       "3             -0.757419             0.757419   -1.421338     1.421338  \n",
       "4              1.320272            -1.320272    0.703562    -0.703562  \n",
       "..                  ...                  ...         ...          ...  \n",
       "294            1.320272            -1.320272    0.703562    -0.703562  \n",
       "295           -0.757419             0.757419   -1.421338     1.421338  \n",
       "296           -0.757419             0.757419    0.703562    -0.703562  \n",
       "297           -0.757419             0.757419   -1.421338     1.421338  \n",
       "298            1.320272            -1.320272    0.703562    -0.703562  \n",
       "\n",
       "[299 rows x 58 columns]"
      ]
     },
     "execution_count": 12,
     "metadata": {},
     "output_type": "execute_result"
    }
   ],
   "source": [
    "x"
   ]
  },
  {
   "cell_type": "code",
   "execution_count": null,
   "id": "2b6e1932",
   "metadata": {},
   "outputs": [],
   "source": []
  },
  {
   "cell_type": "code",
   "execution_count": 13,
   "id": "9f59dd23",
   "metadata": {},
   "outputs": [],
   "source": [
    "from sklearn.model_selection import train_test_split\n",
    "x_train,x_test,y_train,y_test=train_test_split(x,y)"
   ]
  },
  {
   "cell_type": "code",
   "execution_count": 14,
   "id": "1c064efb",
   "metadata": {},
   "outputs": [
    {
     "data": {
      "text/plain": [
       "DecisionTreeClassifier()"
      ]
     },
     "execution_count": 14,
     "metadata": {},
     "output_type": "execute_result"
    }
   ],
   "source": [
    "from sklearn.tree import DecisionTreeClassifier\n",
    "model=DecisionTreeClassifier()\n",
    "model.fit(x_train,y_train)"
   ]
  },
  {
   "cell_type": "code",
   "execution_count": 15,
   "id": "347212ab",
   "metadata": {},
   "outputs": [],
   "source": [
    "pred=model.predict(x_test)\n",
    "pred1=model.predict(x_train)"
   ]
  },
  {
   "cell_type": "code",
   "execution_count": 16,
   "id": "ab5c0471",
   "metadata": {},
   "outputs": [],
   "source": [
    "from sklearn.metrics import accuracy_score"
   ]
  },
  {
   "cell_type": "code",
   "execution_count": 17,
   "id": "b9d675fc",
   "metadata": {},
   "outputs": [
    {
     "data": {
      "text/plain": [
       "(0.6133333333333333, 1.0)"
      ]
     },
     "execution_count": 17,
     "metadata": {},
     "output_type": "execute_result"
    }
   ],
   "source": [
    "A=accuracy_score(y_test,pred)\n",
    "A1=accuracy_score(y_train,pred1)\n",
    "A,A1"
   ]
  },
  {
   "cell_type": "markdown",
   "id": "8044cf03",
   "metadata": {},
   "source": [
    "HYPERPARAMETER TUNING"
   ]
  },
  {
   "cell_type": "code",
   "execution_count": 18,
   "id": "73f9dd70",
   "metadata": {},
   "outputs": [
    {
     "data": {
      "text/plain": [
       "GridSearchCV(cv=3, estimator=DecisionTreeClassifier(),\n",
       "             param_grid={'max_depth': [1, 2, 3, 4, 5, 6, 7, 8, 9],\n",
       "                         'min_samples_leaf': [1, 2, 3, 4, 5, 6, 7]})"
      ]
     },
     "execution_count": 18,
     "metadata": {},
     "output_type": "execute_result"
    }
   ],
   "source": [
    "params={'max_depth':[1,2,3,4,5,6,7,8,9,],'min_samples_leaf':[1,2,3,4,5,6,7]}\n",
    "from sklearn.model_selection import GridSearchCV\n",
    "Gmodel=GridSearchCV(model,params,cv=3)\n",
    "Gmodel.fit(x_train,y_train)"
   ]
  },
  {
   "cell_type": "code",
   "execution_count": 19,
   "id": "0efff779",
   "metadata": {},
   "outputs": [
    {
     "data": {
      "text/plain": [
       "{'max_depth': 4, 'min_samples_leaf': 6}"
      ]
     },
     "execution_count": 19,
     "metadata": {},
     "output_type": "execute_result"
    }
   ],
   "source": [
    "Gmodel.best_params_"
   ]
  },
  {
   "cell_type": "code",
   "execution_count": 20,
   "id": "409c54c4",
   "metadata": {},
   "outputs": [],
   "source": [
    "predG=Gmodel.predict(x_test)\n",
    "predG1=Gmodel.predict(x_train)"
   ]
  },
  {
   "cell_type": "code",
   "execution_count": 21,
   "id": "7455029d",
   "metadata": {},
   "outputs": [
    {
     "data": {
      "text/plain": [
       "(0.5733333333333334, 0.7723214285714286)"
      ]
     },
     "execution_count": 21,
     "metadata": {},
     "output_type": "execute_result"
    }
   ],
   "source": [
    "AG=accuracy_score(y_test,predG)\n",
    "AG1=accuracy_score(y_train,predG1)\n",
    "AG,AG1"
   ]
  },
  {
   "cell_type": "code",
   "execution_count": 22,
   "id": "68c7e233",
   "metadata": {},
   "outputs": [
    {
     "data": {
      "text/plain": [
       "DecisionTreeClassifier(max_depth=1)"
      ]
     },
     "execution_count": 22,
     "metadata": {},
     "output_type": "execute_result"
    }
   ],
   "source": [
    "from sklearn.tree import DecisionTreeClassifier\n",
    "model=DecisionTreeClassifier(max_depth=1, min_samples_leaf= 1)\n",
    "model.fit(x_train,y_train)"
   ]
  },
  {
   "cell_type": "code",
   "execution_count": 23,
   "id": "d32f4c5a",
   "metadata": {},
   "outputs": [],
   "source": [
    "pred=model.predict(x_test)\n",
    "pred1=model.predict(x_train)"
   ]
  },
  {
   "cell_type": "code",
   "execution_count": 24,
   "id": "3a319ba7",
   "metadata": {},
   "outputs": [
    {
     "data": {
      "text/plain": [
       "(0.52, 0.6026785714285714)"
      ]
     },
     "execution_count": 24,
     "metadata": {},
     "output_type": "execute_result"
    }
   ],
   "source": [
    "An=accuracy_score(y_test,pred)\n",
    "A1n=accuracy_score(y_train,pred1)\n",
    "An,A1n"
   ]
  },
  {
   "cell_type": "code",
   "execution_count": null,
   "id": "4ec78259",
   "metadata": {},
   "outputs": [],
   "source": []
  },
  {
   "cell_type": "code",
   "execution_count": null,
   "id": "a699d982",
   "metadata": {},
   "outputs": [],
   "source": []
  },
  {
   "cell_type": "code",
   "execution_count": 25,
   "id": "0374b71e",
   "metadata": {},
   "outputs": [],
   "source": [
    "from sklearn.ensemble import VotingClassifier\n",
    "from sklearn.ensemble import RandomForestClassifier\n",
    "from sklearn.linear_model import LogisticRegression\n",
    "from sklearn.svm import SVC"
   ]
  },
  {
   "cell_type": "code",
   "execution_count": 26,
   "id": "223ceaff",
   "metadata": {},
   "outputs": [],
   "source": [
    "A=RandomForestClassifier()\n",
    "B=LogisticRegression()\n",
    "C=SVC()"
   ]
  },
  {
   "cell_type": "code",
   "execution_count": 27,
   "id": "ec813eb3",
   "metadata": {},
   "outputs": [],
   "source": [
    "model=VotingClassifier(estimators=[('RF',A),('LR',B),('SCV',C)])"
   ]
  },
  {
   "cell_type": "code",
   "execution_count": 28,
   "id": "504df1fb",
   "metadata": {},
   "outputs": [
    {
     "name": "stderr",
     "output_type": "stream",
     "text": [
      "C:\\Users\\Arbaj\\anaconda3\\lib\\site-packages\\sklearn\\utils\\validation.py:63: DataConversionWarning: A column-vector y was passed when a 1d array was expected. Please change the shape of y to (n_samples, ), for example using ravel().\n",
      "  return f(*args, **kwargs)\n"
     ]
    },
    {
     "data": {
      "text/plain": [
       "VotingClassifier(estimators=[('RF', RandomForestClassifier()),\n",
       "                             ('LR', LogisticRegression()), ('SCV', SVC())])"
      ]
     },
     "execution_count": 28,
     "metadata": {},
     "output_type": "execute_result"
    }
   ],
   "source": [
    "model.fit(x_train,y_train)"
   ]
  },
  {
   "cell_type": "code",
   "execution_count": 29,
   "id": "a941fa51",
   "metadata": {},
   "outputs": [
    {
     "name": "stderr",
     "output_type": "stream",
     "text": [
      "C:\\Users\\Arbaj\\AppData\\Local\\Temp/ipykernel_27868/1082659537.py:3: DataConversionWarning: A column-vector y was passed when a 1d array was expected. Please change the shape of y to (n_samples,), for example using ravel().\n",
      "  i.fit(x_train,y_train)\n",
      "C:\\Users\\Arbaj\\anaconda3\\lib\\site-packages\\sklearn\\utils\\validation.py:63: DataConversionWarning: A column-vector y was passed when a 1d array was expected. Please change the shape of y to (n_samples, ), for example using ravel().\n",
      "  return f(*args, **kwargs)\n",
      "C:\\Users\\Arbaj\\anaconda3\\lib\\site-packages\\sklearn\\utils\\validation.py:63: DataConversionWarning: A column-vector y was passed when a 1d array was expected. Please change the shape of y to (n_samples, ), for example using ravel().\n",
      "  return f(*args, **kwargs)\n",
      "C:\\Users\\Arbaj\\anaconda3\\lib\\site-packages\\sklearn\\utils\\validation.py:63: DataConversionWarning: A column-vector y was passed when a 1d array was expected. Please change the shape of y to (n_samples, ), for example using ravel().\n",
      "  return f(*args, **kwargs)\n"
     ]
    },
    {
     "name": "stdout",
     "output_type": "stream",
     "text": [
      "RandomForestClassifier 0.6533333333333333 1.0\n",
      "LogisticRegression 0.5866666666666667 0.875\n",
      "SVC 0.6266666666666667 0.9017857142857143\n",
      "VotingClassifier 0.6266666666666667 0.9419642857142857\n"
     ]
    }
   ],
   "source": [
    "from sklearn.metrics import accuracy_score\n",
    "for i in (A,B,C,model):\n",
    "    i.fit(x_train,y_train)\n",
    "    y_pred=i.predict(x_test)\n",
    "    ytrain_pred=i.predict(x_train)\n",
    "    print(i.__class__.__name__,accuracy_score(y_test,y_pred),accuracy_score(y_train,ytrain_pred))"
   ]
  },
  {
   "cell_type": "code",
   "execution_count": null,
   "id": "82de420a",
   "metadata": {},
   "outputs": [],
   "source": []
  },
  {
   "cell_type": "code",
   "execution_count": 30,
   "id": "3ca35210",
   "metadata": {},
   "outputs": [
    {
     "name": "stderr",
     "output_type": "stream",
     "text": [
      "C:\\Users\\Arbaj\\anaconda3\\lib\\site-packages\\sklearn\\utils\\validation.py:63: DataConversionWarning: A column-vector y was passed when a 1d array was expected. Please change the shape of y to (n_samples, ), for example using ravel().\n",
      "  return f(*args, **kwargs)\n"
     ]
    },
    {
     "data": {
      "text/plain": [
       "BaggingClassifier(base_estimator=DecisionTreeClassifier(), n_estimators=100)"
      ]
     },
     "execution_count": 30,
     "metadata": {},
     "output_type": "execute_result"
    }
   ],
   "source": [
    "from sklearn.ensemble import BaggingClassifier\n",
    "A=BaggingClassifier(DecisionTreeClassifier(),n_estimators=100)\n",
    "A.fit(x_train,y_train)"
   ]
  },
  {
   "cell_type": "code",
   "execution_count": 31,
   "id": "95e7c376",
   "metadata": {},
   "outputs": [],
   "source": [
    "pred=A.predict(x_test)\n",
    "pred_train=A.predict(x_train)"
   ]
  },
  {
   "cell_type": "code",
   "execution_count": 32,
   "id": "8bd4d511",
   "metadata": {},
   "outputs": [
    {
     "data": {
      "text/plain": [
       "(0.64, 1.0)"
      ]
     },
     "execution_count": 32,
     "metadata": {},
     "output_type": "execute_result"
    }
   ],
   "source": [
    "At=accuracy_score(y_test,pred)\n",
    "Att=accuracy_score(y_train,pred_train)\n",
    "At,Att"
   ]
  },
  {
   "cell_type": "code",
   "execution_count": null,
   "id": "d1f3660b",
   "metadata": {},
   "outputs": [],
   "source": []
  },
  {
   "cell_type": "code",
   "execution_count": null,
   "id": "42e786a2",
   "metadata": {},
   "outputs": [],
   "source": []
  },
  {
   "cell_type": "code",
   "execution_count": null,
   "id": "2346314b",
   "metadata": {},
   "outputs": [],
   "source": []
  },
  {
   "cell_type": "code",
   "execution_count": 33,
   "id": "4c6ea292",
   "metadata": {},
   "outputs": [
    {
     "name": "stderr",
     "output_type": "stream",
     "text": [
      "C:\\Users\\Arbaj\\AppData\\Local\\Temp/ipykernel_27868/1393870851.py:3: DataConversionWarning: A column-vector y was passed when a 1d array was expected. Please change the shape of y to (n_samples,), for example using ravel().\n",
      "  A.fit(x_train,y_train)\n"
     ]
    },
    {
     "data": {
      "text/plain": [
       "RandomForestClassifier()"
      ]
     },
     "execution_count": 33,
     "metadata": {},
     "output_type": "execute_result"
    }
   ],
   "source": [
    "from sklearn.ensemble import RandomForestClassifier\n",
    "A=RandomForestClassifier()\n",
    "A.fit(x_train,y_train)\n"
   ]
  },
  {
   "cell_type": "code",
   "execution_count": 34,
   "id": "69d3a36a",
   "metadata": {},
   "outputs": [],
   "source": [
    "pred=A.predict(x_test)\n",
    "pred_train=A.predict(x_train)"
   ]
  },
  {
   "cell_type": "code",
   "execution_count": 35,
   "id": "9761cfe3",
   "metadata": {},
   "outputs": [
    {
     "data": {
      "text/plain": [
       "(0.6133333333333333, 1.0)"
      ]
     },
     "execution_count": 35,
     "metadata": {},
     "output_type": "execute_result"
    }
   ],
   "source": [
    "AT=accuracy_score(y_test,pred)\n",
    "ATT=accuracy_score(y_train,pred_train)\n",
    "AT,ATT"
   ]
  },
  {
   "cell_type": "code",
   "execution_count": 36,
   "id": "d9363587",
   "metadata": {},
   "outputs": [],
   "source": [
    "params={'max_depth':[1,2,3,4,5,6],'n_estimators':[100,300,500]}"
   ]
  },
  {
   "cell_type": "code",
   "execution_count": 37,
   "id": "65910c6c",
   "metadata": {},
   "outputs": [],
   "source": [
    "from sklearn.model_selection import GridSearchCV\n",
    "AG=GridSearchCV(A,params,cv=10,n_jobs=-1)"
   ]
  },
  {
   "cell_type": "code",
   "execution_count": 38,
   "id": "e5b6b51f",
   "metadata": {},
   "outputs": [
    {
     "name": "stderr",
     "output_type": "stream",
     "text": [
      "C:\\Users\\Arbaj\\anaconda3\\lib\\site-packages\\sklearn\\model_selection\\_search.py:880: DataConversionWarning: A column-vector y was passed when a 1d array was expected. Please change the shape of y to (n_samples,), for example using ravel().\n",
      "  self.best_estimator_.fit(X, y, **fit_params)\n"
     ]
    },
    {
     "data": {
      "text/plain": [
       "GridSearchCV(cv=10, estimator=RandomForestClassifier(), n_jobs=-1,\n",
       "             param_grid={'max_depth': [1, 2, 3, 4, 5, 6],\n",
       "                         'n_estimators': [100, 300, 500]})"
      ]
     },
     "execution_count": 38,
     "metadata": {},
     "output_type": "execute_result"
    }
   ],
   "source": [
    "AG.fit(x_train,y_train)"
   ]
  },
  {
   "cell_type": "code",
   "execution_count": 39,
   "id": "c04dca37",
   "metadata": {},
   "outputs": [],
   "source": [
    "pred=AG.predict(x_test)\n",
    "pred_t=AG.predict(x_train)"
   ]
  },
  {
   "cell_type": "code",
   "execution_count": 40,
   "id": "9a7da2fc",
   "metadata": {},
   "outputs": [
    {
     "data": {
      "text/plain": [
       "(0.68, 0.9419642857142857)"
      ]
     },
     "execution_count": 40,
     "metadata": {},
     "output_type": "execute_result"
    }
   ],
   "source": [
    "A=accuracy_score(y_test,pred)\n",
    "AT=accuracy_score(y_train,pred_t)\n",
    "A,AT"
   ]
  },
  {
   "cell_type": "code",
   "execution_count": null,
   "id": "88258fd8",
   "metadata": {},
   "outputs": [],
   "source": []
  },
  {
   "cell_type": "code",
   "execution_count": 41,
   "id": "c3479003",
   "metadata": {},
   "outputs": [],
   "source": [
    "import pandas as pd"
   ]
  },
  {
   "cell_type": "code",
   "execution_count": 42,
   "id": "37c3de4d",
   "metadata": {},
   "outputs": [],
   "source": [
    "RES=pd.DataFrame(columns=['','DT','TUNEDT','VOTING','BAGGING','RF','TUNEDRF'])"
   ]
  },
  {
   "cell_type": "code",
   "execution_count": 45,
   "id": "9f4cdc05",
   "metadata": {},
   "outputs": [],
   "source": [
    "RES['']=['TEST ACCURACYT','TRAINING ACCURACY']\n",
    "RES['DT']=[0.66,1]\n",
    "RES['TUNEDT']=[0.6,0.66]\n",
    "RES['VOTING']=[0.62,0.94]\n",
    "RES['BAGGING']=[0.64,1]\n",
    "RES['RF']=[0.61,1]\n",
    "RES['TUNEDRF']=[0.68,0.94]"
   ]
  },
  {
   "cell_type": "code",
   "execution_count": null,
   "id": "730f5b2e",
   "metadata": {},
   "outputs": [],
   "source": []
  },
  {
   "cell_type": "code",
   "execution_count": 46,
   "id": "faef7a14",
   "metadata": {},
   "outputs": [
    {
     "data": {
      "text/html": [
       "<div>\n",
       "<style scoped>\n",
       "    .dataframe tbody tr th:only-of-type {\n",
       "        vertical-align: middle;\n",
       "    }\n",
       "\n",
       "    .dataframe tbody tr th {\n",
       "        vertical-align: top;\n",
       "    }\n",
       "\n",
       "    .dataframe thead th {\n",
       "        text-align: right;\n",
       "    }\n",
       "</style>\n",
       "<table border=\"1\" class=\"dataframe\">\n",
       "  <thead>\n",
       "    <tr style=\"text-align: right;\">\n",
       "      <th></th>\n",
       "      <th></th>\n",
       "      <th>DT</th>\n",
       "      <th>TUNEDT</th>\n",
       "      <th>VOTING</th>\n",
       "      <th>BAGGING</th>\n",
       "      <th>RF</th>\n",
       "      <th>TUNEDRF</th>\n",
       "    </tr>\n",
       "  </thead>\n",
       "  <tbody>\n",
       "    <tr>\n",
       "      <th>0</th>\n",
       "      <td>TEST ACCURACYT</td>\n",
       "      <td>0.66</td>\n",
       "      <td>0.60</td>\n",
       "      <td>0.62</td>\n",
       "      <td>0.64</td>\n",
       "      <td>0.61</td>\n",
       "      <td>0.68</td>\n",
       "    </tr>\n",
       "    <tr>\n",
       "      <th>1</th>\n",
       "      <td>TRAINING ACCURACY</td>\n",
       "      <td>1.00</td>\n",
       "      <td>0.66</td>\n",
       "      <td>0.94</td>\n",
       "      <td>1.00</td>\n",
       "      <td>1.00</td>\n",
       "      <td>0.94</td>\n",
       "    </tr>\n",
       "  </tbody>\n",
       "</table>\n",
       "</div>"
      ],
      "text/plain": [
       "                        DT  TUNEDT  VOTING  BAGGING    RF  TUNEDRF\n",
       "0     TEST ACCURACYT  0.66    0.60    0.62     0.64  0.61     0.68\n",
       "1  TRAINING ACCURACY  1.00    0.66    0.94     1.00  1.00     0.94"
      ]
     },
     "execution_count": 46,
     "metadata": {},
     "output_type": "execute_result"
    }
   ],
   "source": [
    "RES"
   ]
  },
  {
   "cell_type": "code",
   "execution_count": null,
   "id": "d3b2ab79",
   "metadata": {},
   "outputs": [],
   "source": []
  },
  {
   "cell_type": "code",
   "execution_count": null,
   "id": "0b1213eb",
   "metadata": {},
   "outputs": [],
   "source": []
  },
  {
   "cell_type": "code",
   "execution_count": null,
   "id": "bdd34fa9",
   "metadata": {},
   "outputs": [],
   "source": []
  },
  {
   "cell_type": "code",
   "execution_count": null,
   "id": "443b7287",
   "metadata": {},
   "outputs": [],
   "source": []
  },
  {
   "cell_type": "code",
   "execution_count": null,
   "id": "f3646d6b",
   "metadata": {},
   "outputs": [],
   "source": []
  },
  {
   "cell_type": "code",
   "execution_count": null,
   "id": "f8d74b7c",
   "metadata": {},
   "outputs": [],
   "source": []
  },
  {
   "cell_type": "code",
   "execution_count": null,
   "id": "7e738334",
   "metadata": {},
   "outputs": [],
   "source": []
  }
 ],
 "metadata": {
  "kernelspec": {
   "display_name": "Python 3 (ipykernel)",
   "language": "python",
   "name": "python3"
  },
  "language_info": {
   "codemirror_mode": {
    "name": "ipython",
    "version": 3
   },
   "file_extension": ".py",
   "mimetype": "text/x-python",
   "name": "python",
   "nbconvert_exporter": "python",
   "pygments_lexer": "ipython3",
   "version": "3.9.12"
  }
 },
 "nbformat": 4,
 "nbformat_minor": 5
}
